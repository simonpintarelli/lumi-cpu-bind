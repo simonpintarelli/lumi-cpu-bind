{
 "cells": [
  {
   "cell_type": "code",
   "execution_count": 1,
   "id": "69f747ef-4d8c-4068-8a3c-8dd13617e885",
   "metadata": {},
   "outputs": [],
   "source": [
    "## LUMI binding generator"
   ]
  },
  {
   "cell_type": "code",
   "execution_count": 10,
   "id": "6a9da173-23af-40b6-9a39-ea2eb6365242",
   "metadata": {},
   "outputs": [],
   "source": [
    "def get_ccd(x, cores_per_ccd=8, nccd=8):\n",
    "    \"\"\"\n",
    "    Arguments:\n",
    "    x             -- A cpu_bind cpu_mask as number\n",
    "    cores_per_ccd -- number of cores per CCD [=8]\n",
    "    nccd          -- number of CCDs [=8]\n",
    "\n",
    "    Returns:\n",
    "    n -- The number of the CCD on which mask x is located.\n",
    "    \"\"\"\n",
    "\n",
    "    assert x < (0xff << (nccd-1)*cores_per_ccd)\n",
    "    i = 0\n",
    "    z = x\n",
    "    while True:\n",
    "        z >>= cores_per_ccd;\n",
    "        if z == 0:\n",
    "          break\n",
    "        else:\n",
    "          i += 1\n",
    "    ccd_mask = (0xff << i*cores_per_ccd)\n",
    "    assert x == (x & ccd_mask)\n",
    "    return i\n",
    "def split_by_ccd(x):\n",
    "    \"\"\"\n",
    "    A string representatinv a capu_mask in binary format, ie a string consisting of [0,1]\n",
    "    \"\"\"\n",
    "    assert len(x) % 8 == 0\n",
    "    bs = 8\n",
    "    return [x[i : i + bs] for i in range(0, len(x), 8)]\n",
    "\n",
    "def translate_mask(mask, i, ncores_per_ccd=8):\n",
    "    \"\"\"\n",
    "    Arguments:\n",
    "    mask           -- a cpu mask (for a single CCD)\n",
    "    i              -- move mask to i-th CCD\n",
    "    ncores_per_ccd -- offset the mask targeting the n-th CCD\n",
    "    \"\"\"\n",
    "    assert mask <= 0xFF\n",
    "    val = mask << (ncores_per_ccd*i)\n",
    "    return f'0x{val:x}'\n",
    "\n",
    "def duplicate(original_list):\n",
    "    return [item for item in original_list for _ in range(2)]\n",
    "    \n",
    "ccd_to_gcd = {0: 4, # NUMA 0 -> GPU[4,5]\n",
    "              1: 5,\n",
    "              2: 2, # NUMA 1 -> GPU[2,3]\n",
    "              3: 3,\n",
    "              4: 6, # NUMA 2 -> GPU[6,7]\n",
    "              5: 7,\n",
    "              6: 0, # NUMA 3 -> GPU[0,1]\n",
    "              7: 1}\n",
    "\n",
    "def print_bash_commands(data):\n",
    "\n",
    "    data = sorted(data, key=lambda v: ccd_to_gpu[v['ccd']])\n",
    "\n",
    "    masks = [entry['mask'] for entry in data]\n",
    "\n",
    "    CPU_BIND='CPU_BIND=\\\"cpu_mask:' + ','.join(masks) + '\\\"'\n",
    "    # array to be ndexed by $SLURM_LOCALID\n",
    "    ROCR_VISIBLE_DEVICE_MAP = 'ROCR_VISIBLE_DEVICE_MAP=(' + ' '.join([str(v['gcd']) for v in data]) + ')'\n",
    "\n",
    "    print(CPU_BIND)\n",
    "    print('# index by $SLURM_LOCALID')\n",
    "    print(ROCR_VISIBLE_DEVICE_MAP)\n",
    "\n",
    "\n"
   ]
  },
  {
   "cell_type": "code",
   "execution_count": null,
   "id": "50b11098-72f1-4767-910b-9362a1701f0c",
   "metadata": {},
   "outputs": [],
   "source": [
    "# 8MPI ranks, 7 OMP threads "
   ]
  },
  {
   "cell_type": "code",
   "execution_count": 20,
   "id": "724ab337-89d1-4c27-bc9f-78873b4d54c9",
   "metadata": {},
   "outputs": [
    {
     "name": "stdout",
     "output_type": "stream",
     "text": [
      "['fe']\n",
      "num_ranks: 8\n",
      "CPU_BIND=\"cpu_mask:0xfe000000000000,0xfe00000000000000,0xfe0000,0xfe000000,0xfe,0xfe00,0xfe00000000,0xfe0000000000\"\n",
      "# index by $SLURM_LOCALID\n",
      "ROCR_VISIBLE_DEVICE_MAP=(0 1 2 3 4 5 6 7)\n"
     ]
    }
   ],
   "source": [
    "base_mask = [0xfe]\n",
    "print([f'{v:x}' for v in base_mask])\n",
    "\n",
    "# Sort masks such that\n",
    "data = sorted(\n",
    "    [\n",
    "        {'ccd': ccd, 'mask': translate_mask(mask, ccd),\n",
    "         'gcd': ccd_to_gcd[ccd]}\n",
    "        for ccd in range(8)\n",
    "        for mask in base_mask\n",
    "    ],\n",
    "    key=lambda x: ccd_to_gcd[x['ccd']],\n",
    ")\n",
    "print(f'num_ranks: {len(data)}')\n",
    "print_bash_commands(data)\n"
   ]
  },
  {
   "cell_type": "code",
   "execution_count": null,
   "id": "e1cae37f-3858-4fcc-8688-5857b32d31e4",
   "metadata": {},
   "outputs": [],
   "source": [
    "# 16 MPI ranks, 3 OMP threads"
   ]
  },
  {
   "cell_type": "code",
   "execution_count": 23,
   "id": "ed6cb018-c11b-4dbd-b3c4-f3ff63a4b43c",
   "metadata": {},
   "outputs": [
    {
     "name": "stdout",
     "output_type": "stream",
     "text": [
      "mask on CCD0\n",
      "['00001110', '11100000']\n",
      "num_ranks: 16\n",
      "CPU_BIND=\"cpu_mask:0xe000000000000,0xe0000000000000,0xe00000000000000,0xe000000000000000,0xe0000,0xe00000,0xe000000,0xe0000000,0xe,0xe0,0xe00,0xe000,0xe00000000,0xe000000000,0xe0000000000,0xe00000000000\"\n",
      "# index by $SLURM_LOCALID\n",
      "ROCR_VISIBLE_DEVICE_MAP=(0 0 1 1 2 2 3 3 4 4 5 5 6 6 7 7)\n"
     ]
    }
   ],
   "source": [
    "base_mask = [0xe, 0xe << 4]\n",
    "print('mask on CCD0')\n",
    "print([f'{v:0>8b}' for v in base_mask])\n",
    "\n",
    "# Sort masks such that\n",
    "data = sorted(\n",
    "    [\n",
    "        {'ccd': ccd, 'mask': translate_mask(mask, ccd),\n",
    "         'gcd': ccd_to_gcd[ccd]}\n",
    "        for ccd in range(8)\n",
    "        for mask in base_mask\n",
    "    ],\n",
    "    key=lambda x: ccd_to_gcd[x['ccd']],\n",
    ")\n",
    "print(f'num_ranks: {len(data)}')\n",
    "print_bash_commands(data)\n"
   ]
  },
  {
   "cell_type": "code",
   "execution_count": 25,
   "id": "184e085d-f6c4-454e-a0b5-7e0027d5af3f",
   "metadata": {},
   "outputs": [],
   "source": [
    "# 24 MPI ranks x 2 OMP threads"
   ]
  },
  {
   "cell_type": "code",
   "execution_count": 26,
   "id": "b37129bf-100a-464f-8128-b8bb74e6882b",
   "metadata": {},
   "outputs": [
    {
     "name": "stdout",
     "output_type": "stream",
     "text": [
      "mask on CCD0\n",
      "['00000011', '00001100', '00110000']\n",
      "CPU_BIND=\"cpu_mask:0x3000000000000,0xc000000000000,0x30000000000000,0x300000000000000,0xc00000000000000,0x3000000000000000,0x30000,0xc0000,0x300000,0x3000000,0xc000000,0x30000000,0x3,0xc,0x30,0x300,0xc00,0x3000,0x300000000,0xc00000000,0x3000000000,0x30000000000,0xc0000000000,0x300000000000\"\n",
      "# index by $SLURM_LOCALID\n",
      "ROCR_VISIBLE_DEVICE_MAP=(0 0 0 1 1 1 2 2 2 3 3 3 4 4 4 5 5 5 6 6 6 7 7 7)\n"
     ]
    }
   ],
   "source": [
    "base_mask = [0x3, 0x3 << 2, 0x3 << 4]\n",
    "print('mask on CCD0')\n",
    "print([f'{v:0>8b}' for v in base_mask])\n",
    "# Sort masks such that\n",
    "data = sorted(\n",
    "    [\n",
    "        {'ccd': ccd, 'mask': translate_mask(mask, ccd),\n",
    "         'gcd': ccd_to_gcd[ccd]}\n",
    "        for ccd in range(8)\n",
    "        for mask in base_mask\n",
    "    ],\n",
    "    key=lambda x: ccd_to_gcd[x['ccd']],\n",
    ")\n",
    "print_bash_commands(data)\n"
   ]
  },
  {
   "cell_type": "code",
   "execution_count": 27,
   "id": "ef820963-e87b-40ca-ac60-2082a8527b4b",
   "metadata": {},
   "outputs": [],
   "source": [
    "# 32 MPI ranks x 1 OMP thread"
   ]
  },
  {
   "cell_type": "code",
   "execution_count": 29,
   "id": "f1a8f6b1-ebb4-43b8-b0a8-e246b7489a1a",
   "metadata": {},
   "outputs": [
    {
     "name": "stdout",
     "output_type": "stream",
     "text": [
      "mask on CCD0\n",
      "['00000001', '00000010', '00000100', '00001000']\n",
      "CPU_BIND=\"cpu_mask:0x1000000000000,0x2000000000000,0x4000000000000,0x8000000000000,0x100000000000000,0x200000000000000,0x400000000000000,0x800000000000000,0x10000,0x20000,0x40000,0x80000,0x1000000,0x2000000,0x4000000,0x8000000,0x1,0x2,0x4,0x8,0x100,0x200,0x400,0x800,0x100000000,0x200000000,0x400000000,0x800000000,0x10000000000,0x20000000000,0x40000000000,0x80000000000\"\n",
      "# index by $SLURM_LOCALID\n",
      "ROCR_VISIBLE_DEVICE_MAP=(0 0 0 0 1 1 1 1 2 2 2 2 3 3 3 3 4 4 4 4 5 5 5 5 6 6 6 6 7 7 7 7)\n"
     ]
    }
   ],
   "source": [
    "# 4 ranks per ccd\n",
    "base_mask = [0x1 << i for i in range(4)]\n",
    "print('mask on CCD0')\n",
    "print([f'{v:0>8b}' for v in base_mask])\n",
    "# Sort masks such that\n",
    "data = sorted(\n",
    "    [\n",
    "        {'ccd': ccd, 'mask': translate_mask(mask, ccd),\n",
    "         'gcd': ccd_to_gcd[ccd]}\n",
    "        for ccd in range(8)\n",
    "        for mask in base_mask\n",
    "    ],\n",
    "    key=lambda x: ccd_to_gcd[x['ccd']],\n",
    ")\n",
    "print_bash_commands(data)\n"
   ]
  },
  {
   "cell_type": "code",
   "execution_count": null,
   "id": "b51d022d-fbc4-4ccc-a305-8627d761f2a7",
   "metadata": {},
   "outputs": [],
   "source": []
  }
 ],
 "metadata": {
  "kernelspec": {
   "display_name": "Python 3 (ipykernel)",
   "language": "python",
   "name": "python3"
  },
  "language_info": {
   "codemirror_mode": {
    "name": "ipython",
    "version": 3
   },
   "file_extension": ".py",
   "mimetype": "text/x-python",
   "name": "python",
   "nbconvert_exporter": "python",
   "pygments_lexer": "ipython3",
   "version": "3.11.3"
  }
 },
 "nbformat": 4,
 "nbformat_minor": 5
}
